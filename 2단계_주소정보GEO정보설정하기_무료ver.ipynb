{
  "nbformat": 4,
  "nbformat_minor": 0,
  "metadata": {
    "colab": {
      "name": "2단계_주소정보GEO정보설정하기_무료ver.ipynb",
      "provenance": [],
      "collapsed_sections": [],
      "authorship_tag": "ABX9TyMh7KQEEApMNuQTrLesvxzI",
      "include_colab_link": true
    },
    "kernelspec": {
      "name": "python3",
      "display_name": "Python 3"
    },
    "language_info": {
      "name": "python"
    }
  },
  "cells": [
    {
      "cell_type": "markdown",
      "metadata": {
        "id": "view-in-github",
        "colab_type": "text"
      },
      "source": [
        "<a href=\"https://colab.research.google.com/github/bugcaps/workjob/blob/main/2%EB%8B%A8%EA%B3%84_%EC%A3%BC%EC%86%8C%EC%A0%95%EB%B3%B4GEO%EC%A0%95%EB%B3%B4%EC%84%A4%EC%A0%95%ED%95%98%EA%B8%B0_%EB%AC%B4%EB%A3%8Cver.ipynb\" target=\"_parent\"><img src=\"https://colab.research.google.com/assets/colab-badge.svg\" alt=\"Open In Colab\"/></a>"
      ]
    },
    {
      "cell_type": "markdown",
      "source": [
        "\n",
        "## 서울,경지 아파트의 주소 정보를 가지고 각 주소별 위경도 좌표를 조회하여 CSV에 생성한다.\n",
        "* 무료로 좌표조회하여 생성하기\n",
        "* 일부 누락되는 데이터가 있다."
      ],
      "metadata": {
        "id": "dMGiczKjIWUJ"
      }
    },
    {
      "cell_type": "code",
      "execution_count": null,
      "metadata": {
        "colab": {
          "base_uri": "https://localhost:8080/"
        },
        "id": "0B-imZLJIMeJ",
        "outputId": "f871883d-b3b1-44f9-d385-46c20dd06e28"
      },
      "outputs": [
        {
          "output_type": "stream",
          "name": "stdout",
          "text": [
            "Mounted at /content/drvie\n"
          ]
        }
      ],
      "source": [
        "# 드라이브  연결\n",
        "from google.colab import drive\n",
        "drive.mount('/content/drvie') "
      ]
    },
    {
      "cell_type": "code",
      "source": [
        "!ls /content/drvie/MyDrive/apartHome/실거래가"
      ],
      "metadata": {
        "colab": {
          "base_uri": "https://localhost:8080/"
        },
        "id": "xYKJrZJ4I6KO",
        "outputId": "11298506-2638-48b5-ba0b-095bab672852"
      },
      "execution_count": null,
      "outputs": [
        {
          "output_type": "stream",
          "name": "stdout",
          "text": [
            " 2019_21_서울경기_40_130.csv\n",
            "'아파트(매매)__실거래가_2019_서울.csv'\n",
            "'아파트(매매)__실거래가_2019_경기도.csv'\n",
            "'아파트(매매)__실거래가_2020_서울.csv'\n",
            "'아파트(매매)__실거래가_2020_경기도.csv'\n",
            "'아파트(매매)__실거래가_2021_서울.csv'\n",
            "'아파트(매매)__실거래가_2021_경기도.csv'\n",
            " 2021_성동구.csv\n",
            " 서울경기아파트주소.csv\n",
            " 서울경기아파트주소_GEO.csv\n",
            " test.csv\n"
          ]
        }
      ]
    },
    {
      "cell_type": "code",
      "source": [
        "pip install  geopandas "
      ],
      "metadata": {
        "id": "0aJDXjlpMg_M"
      },
      "execution_count": null,
      "outputs": []
    },
    {
      "cell_type": "code",
      "source": [
        "import pandas as pd\n",
        "\n",
        "address = pd.read_csv('/content/drvie/MyDrive/apartHome/실거래가/서울경기아파트주소.csv')\n",
        "address"
      ],
      "metadata": {
        "colab": {
          "base_uri": "https://localhost:8080/",
          "height": 424
        },
        "id": "JD10cGkNJT24",
        "outputId": "d4d265c9-5d02-4f0b-89ee-bd0db16d3d17"
      },
      "execution_count": null,
      "outputs": [
        {
          "output_type": "execute_result",
          "data": {
            "text/html": [
              "\n",
              "  <div id=\"df-17484150-51a5-4d4f-8138-7b35abc433c1\">\n",
              "    <div class=\"colab-df-container\">\n",
              "      <div>\n",
              "<style scoped>\n",
              "    .dataframe tbody tr th:only-of-type {\n",
              "        vertical-align: middle;\n",
              "    }\n",
              "\n",
              "    .dataframe tbody tr th {\n",
              "        vertical-align: top;\n",
              "    }\n",
              "\n",
              "    .dataframe thead th {\n",
              "        text-align: right;\n",
              "    }\n",
              "</style>\n",
              "<table border=\"1\" class=\"dataframe\">\n",
              "  <thead>\n",
              "    <tr style=\"text-align: right;\">\n",
              "      <th></th>\n",
              "      <th>주소</th>\n",
              "    </tr>\n",
              "  </thead>\n",
              "  <tbody>\n",
              "    <tr>\n",
              "      <th>0</th>\n",
              "      <td>서울특별시 강남구 개포동 언주로 103</td>\n",
              "    </tr>\n",
              "    <tr>\n",
              "      <th>1</th>\n",
              "      <td>서울특별시 강남구 개포동 언주로 3</td>\n",
              "    </tr>\n",
              "    <tr>\n",
              "      <th>2</th>\n",
              "      <td>서울특별시 강남구 개포동 개포로 307</td>\n",
              "    </tr>\n",
              "    <tr>\n",
              "      <th>3</th>\n",
              "      <td>서울특별시 강남구 개포동 개포로 310</td>\n",
              "    </tr>\n",
              "    <tr>\n",
              "      <th>4</th>\n",
              "      <td>서울특별시 강남구 개포동 선릉로 7</td>\n",
              "    </tr>\n",
              "    <tr>\n",
              "      <th>...</th>\n",
              "      <td>...</td>\n",
              "    </tr>\n",
              "    <tr>\n",
              "      <th>13814</th>\n",
              "      <td>경기도 화성시 오산동 동탄감배산로 143</td>\n",
              "    </tr>\n",
              "    <tr>\n",
              "      <th>13815</th>\n",
              "      <td>경기도 화성시 오산동 동탄기흥로 393-20</td>\n",
              "    </tr>\n",
              "    <tr>\n",
              "      <th>13816</th>\n",
              "      <td>경기도 화성시 장안면 사곡리 밤밭일원길 131-10</td>\n",
              "    </tr>\n",
              "    <tr>\n",
              "      <th>13817</th>\n",
              "      <td>경기도 화성시 향남읍 장짐리 푸른들판로 251-8</td>\n",
              "    </tr>\n",
              "    <tr>\n",
              "      <th>13818</th>\n",
              "      <td>경기도 화성시 향남읍 장짐리 푸른들판로 251-6</td>\n",
              "    </tr>\n",
              "  </tbody>\n",
              "</table>\n",
              "<p>13819 rows × 1 columns</p>\n",
              "</div>\n",
              "      <button class=\"colab-df-convert\" onclick=\"convertToInteractive('df-17484150-51a5-4d4f-8138-7b35abc433c1')\"\n",
              "              title=\"Convert this dataframe to an interactive table.\"\n",
              "              style=\"display:none;\">\n",
              "        \n",
              "  <svg xmlns=\"http://www.w3.org/2000/svg\" height=\"24px\"viewBox=\"0 0 24 24\"\n",
              "       width=\"24px\">\n",
              "    <path d=\"M0 0h24v24H0V0z\" fill=\"none\"/>\n",
              "    <path d=\"M18.56 5.44l.94 2.06.94-2.06 2.06-.94-2.06-.94-.94-2.06-.94 2.06-2.06.94zm-11 1L8.5 8.5l.94-2.06 2.06-.94-2.06-.94L8.5 2.5l-.94 2.06-2.06.94zm10 10l.94 2.06.94-2.06 2.06-.94-2.06-.94-.94-2.06-.94 2.06-2.06.94z\"/><path d=\"M17.41 7.96l-1.37-1.37c-.4-.4-.92-.59-1.43-.59-.52 0-1.04.2-1.43.59L10.3 9.45l-7.72 7.72c-.78.78-.78 2.05 0 2.83L4 21.41c.39.39.9.59 1.41.59.51 0 1.02-.2 1.41-.59l7.78-7.78 2.81-2.81c.8-.78.8-2.07 0-2.86zM5.41 20L4 18.59l7.72-7.72 1.47 1.35L5.41 20z\"/>\n",
              "  </svg>\n",
              "      </button>\n",
              "      \n",
              "  <style>\n",
              "    .colab-df-container {\n",
              "      display:flex;\n",
              "      flex-wrap:wrap;\n",
              "      gap: 12px;\n",
              "    }\n",
              "\n",
              "    .colab-df-convert {\n",
              "      background-color: #E8F0FE;\n",
              "      border: none;\n",
              "      border-radius: 50%;\n",
              "      cursor: pointer;\n",
              "      display: none;\n",
              "      fill: #1967D2;\n",
              "      height: 32px;\n",
              "      padding: 0 0 0 0;\n",
              "      width: 32px;\n",
              "    }\n",
              "\n",
              "    .colab-df-convert:hover {\n",
              "      background-color: #E2EBFA;\n",
              "      box-shadow: 0px 1px 2px rgba(60, 64, 67, 0.3), 0px 1px 3px 1px rgba(60, 64, 67, 0.15);\n",
              "      fill: #174EA6;\n",
              "    }\n",
              "\n",
              "    [theme=dark] .colab-df-convert {\n",
              "      background-color: #3B4455;\n",
              "      fill: #D2E3FC;\n",
              "    }\n",
              "\n",
              "    [theme=dark] .colab-df-convert:hover {\n",
              "      background-color: #434B5C;\n",
              "      box-shadow: 0px 1px 3px 1px rgba(0, 0, 0, 0.15);\n",
              "      filter: drop-shadow(0px 1px 2px rgba(0, 0, 0, 0.3));\n",
              "      fill: #FFFFFF;\n",
              "    }\n",
              "  </style>\n",
              "\n",
              "      <script>\n",
              "        const buttonEl =\n",
              "          document.querySelector('#df-17484150-51a5-4d4f-8138-7b35abc433c1 button.colab-df-convert');\n",
              "        buttonEl.style.display =\n",
              "          google.colab.kernel.accessAllowed ? 'block' : 'none';\n",
              "\n",
              "        async function convertToInteractive(key) {\n",
              "          const element = document.querySelector('#df-17484150-51a5-4d4f-8138-7b35abc433c1');\n",
              "          const dataTable =\n",
              "            await google.colab.kernel.invokeFunction('convertToInteractive',\n",
              "                                                     [key], {});\n",
              "          if (!dataTable) return;\n",
              "\n",
              "          const docLinkHtml = 'Like what you see? Visit the ' +\n",
              "            '<a target=\"_blank\" href=https://colab.research.google.com/notebooks/data_table.ipynb>data table notebook</a>'\n",
              "            + ' to learn more about interactive tables.';\n",
              "          element.innerHTML = '';\n",
              "          dataTable['output_type'] = 'display_data';\n",
              "          await google.colab.output.renderOutput(dataTable, element);\n",
              "          const docLink = document.createElement('div');\n",
              "          docLink.innerHTML = docLinkHtml;\n",
              "          element.appendChild(docLink);\n",
              "        }\n",
              "      </script>\n",
              "    </div>\n",
              "  </div>\n",
              "  "
            ],
            "text/plain": [
              "                                 주소\n",
              "0             서울특별시 강남구 개포동 언주로 103\n",
              "1               서울특별시 강남구 개포동 언주로 3\n",
              "2             서울특별시 강남구 개포동 개포로 307\n",
              "3             서울특별시 강남구 개포동 개포로 310\n",
              "4               서울특별시 강남구 개포동 선릉로 7\n",
              "...                             ...\n",
              "13814        경기도 화성시 오산동 동탄감배산로 143\n",
              "13815      경기도 화성시 오산동 동탄기흥로 393-20\n",
              "13816  경기도 화성시 장안면 사곡리 밤밭일원길 131-10\n",
              "13817   경기도 화성시 향남읍 장짐리 푸른들판로 251-8\n",
              "13818   경기도 화성시 향남읍 장짐리 푸른들판로 251-6\n",
              "\n",
              "[13819 rows x 1 columns]"
            ]
          },
          "metadata": {},
          "execution_count": 2
        }
      ]
    },
    {
      "cell_type": "code",
      "source": [
        "!pip install  geopandas \n",
        "!pip install geopy\n",
        "#or in Colab: \n",
        "!pip install geocoder"
      ],
      "metadata": {
        "id": "e-B9DKdPJqwD"
      },
      "execution_count": null,
      "outputs": []
    },
    {
      "cell_type": "code",
      "source": [
        "temp =address.sample(3)\n",
        "address.info()"
      ],
      "metadata": {
        "colab": {
          "base_uri": "https://localhost:8080/"
        },
        "id": "59mgAyUsKCju",
        "outputId": "a5e90751-4ce4-4a2f-8286-3f1a050e4f80"
      },
      "execution_count": null,
      "outputs": [
        {
          "output_type": "stream",
          "name": "stdout",
          "text": [
            "<class 'pandas.core.frame.DataFrame'>\n",
            "RangeIndex: 13819 entries, 0 to 13818\n",
            "Data columns (total 1 columns):\n",
            " #   Column  Non-Null Count  Dtype \n",
            "---  ------  --------------  ----- \n",
            " 0   주소      13819 non-null  object\n",
            "dtypes: object(1)\n",
            "memory usage: 108.1+ KB\n"
          ]
        }
      ]
    },
    {
      "cell_type": "markdown",
      "source": [
        "pandas에 위도경도 좌표항목을 추가로 설정위해서 geocoder 추가\n",
        "* !pip install geocoder \n",
        "* geocoder 를 사용하면 좌표값을 조회할 수있으나 일부 누락되는 부분이 있어서 이후에 추가로 구글 api를 사용하여 좌표조회가 필요하다.\n",
        "* 그러나, geocoder는 호출비용이 들지 않는다. \n",
        "\n"
      ],
      "metadata": {
        "id": "xm7BwZhmPjnM"
      }
    },
    {
      "cell_type": "code",
      "source": [
        "import geocoder\n",
        "#위도경도정보를 조회 좌표값을 분할 추출 한다.\n",
        "# https://pypi.org/project/geocoder/\n",
        "  \n",
        "def geocoding(input_address):\n",
        "  try:\n",
        "   g = geocoder.osm(input_address)\n",
        "   #g = geocoder.google(input_address, session=session) \n",
        "   if (g.status !='OK'):\n",
        "     return 'NA','NA'\n",
        "  except AttributeError:\n",
        "    print(\"Problem with data or cannot Geocode.\")\n",
        "    return 'NA','NA'\n",
        "  except GeocoderTimedOut:      \n",
        "    print(\"Problem with data or cannot GeocoderTimedOut.\")\n",
        "  except TypeError:  \n",
        "    return 'NA','NA'\n",
        "  return g.osm['x'], g.osm['y']"
      ],
      "metadata": {
        "id": "OrG6eko5Nhor"
      },
      "execution_count": null,
      "outputs": []
    },
    {
      "cell_type": "markdown",
      "source": [
        "## 진짜 모든 주소의 address\n",
        "* 서울경기아파트주소_GEO.csv 생성"
      ],
      "metadata": {
        "id": "Mknw5AZ-Qxve"
      }
    },
    {
      "cell_type": "code",
      "source": [
        "import tqdm                                                                                                   \n",
        "import numpy as np\n",
        "import pandas as pd\n",
        "import concurrent.futures\n",
        "import multiprocessing\n",
        "num_processes = multiprocessing.cpu_count()\n",
        "display(num_processes)\n",
        "df = pd.DataFrame({i: np.random.randint(1,100,size=1000) for i in ['a', 'b', 'c']})\n",
        " \n",
        "# Define a function on the numbers\n",
        "def func(a, b):\n",
        "    return a+b\n",
        " \n",
        "# Process the rows in chunks in parallel\n",
        "with concurrent.futures.ProcessPoolExecutor(num_processes) as pool:\n",
        "    #df['result'] = list(pool.map(func, df['a'], df['b'], chunksize=10)) # Without a progressbar\n",
        "    df['result'] = list(tqdm.tqdm(pool.map(func, df['a'], df['b'], chunksize=10), total=df.shape[0]))\n",
        "\n"
      ],
      "metadata": {
        "colab": {
          "base_uri": "https://localhost:8080/",
          "height": 54
        },
        "id": "G0UancLwPuHG",
        "outputId": "0097d165-95f2-4a11-ebee-07be03062663"
      },
      "execution_count": null,
      "outputs": [
        {
          "output_type": "display_data",
          "data": {
            "text/plain": [
              "2"
            ]
          },
          "metadata": {}
        },
        {
          "output_type": "stream",
          "name": "stderr",
          "text": [
            "100%|██████████| 1000/1000 [00:00<00:00, 32503.40it/s]\n"
          ]
        }
      ]
    },
    {
      "cell_type": "markdown",
      "source": [
        "## Parallel processing pandas dataframes\n",
        "* Sample test\n",
        "* colab은  cpu가 2개다."
      ],
      "metadata": {
        "id": "uIGUq-D1TZ-9"
      }
    },
    {
      "cell_type": "code",
      "source": [
        "pip install geocoder"
      ],
      "metadata": {
        "id": "FdyUgUazd-Hi"
      },
      "execution_count": null,
      "outputs": []
    },
    {
      "cell_type": "markdown",
      "source": [
        "### Test용 geocoder 호출"
      ],
      "metadata": {
        "id": "5I280ZlgcAL9"
      }
    },
    {
      "cell_type": "code",
      "source": [
        "\n",
        "temp= address.head(10)\n",
        "temp\n",
        "\n",
        "num_processes = multiprocessing.cpu_count()\n",
        "import geopandas as gpd\n",
        "# ## geo apikey 적용 데이터 조회\n",
        "with concurrent.futures.ProcessPoolExecutor(num_processes) as pool:\n",
        "    #df['result'] = list(pool.map(func, df['a'], df['b'], chunksize=10)) # Without a progressbar\n",
        "    temp['locations'] = list(tqdm.tqdm(pool.map(geocoding, temp['주소'], chunksize=50), total=temp.shape[0]))\n",
        "\n",
        "temp[['lon','lat']] = pd.DataFrame(temp['locations'].tolist(),\n",
        "                                 index=temp.index)\n",
        "temp"
      ],
      "metadata": {
        "id": "5I2EE9QqQ5VG"
      },
      "execution_count": null,
      "outputs": []
    },
    {
      "cell_type": "code",
      "source": [
        "temp"
      ],
      "metadata": {
        "colab": {
          "base_uri": "https://localhost:8080/",
          "height": 363
        },
        "id": "LFncvZLpSecL",
        "outputId": "b8884ef6-fa25-47f6-c120-957e5fb625e3"
      },
      "execution_count": null,
      "outputs": [
        {
          "output_type": "execute_result",
          "data": {
            "text/html": [
              "\n",
              "  <div id=\"df-4f74853d-7e28-41e6-ae08-2dba9992eb4d\">\n",
              "    <div class=\"colab-df-container\">\n",
              "      <div>\n",
              "<style scoped>\n",
              "    .dataframe tbody tr th:only-of-type {\n",
              "        vertical-align: middle;\n",
              "    }\n",
              "\n",
              "    .dataframe tbody tr th {\n",
              "        vertical-align: top;\n",
              "    }\n",
              "\n",
              "    .dataframe thead th {\n",
              "        text-align: right;\n",
              "    }\n",
              "</style>\n",
              "<table border=\"1\" class=\"dataframe\">\n",
              "  <thead>\n",
              "    <tr style=\"text-align: right;\">\n",
              "      <th></th>\n",
              "      <th>주소</th>\n",
              "      <th>locations</th>\n",
              "      <th>lon</th>\n",
              "      <th>lat</th>\n",
              "    </tr>\n",
              "  </thead>\n",
              "  <tbody>\n",
              "    <tr>\n",
              "      <th>0</th>\n",
              "      <td>서울특별시 강남구 개포동 언주로 103</td>\n",
              "      <td>(127.0528827, 37.481299500000006)</td>\n",
              "      <td>127.052883</td>\n",
              "      <td>37.481300</td>\n",
              "    </tr>\n",
              "    <tr>\n",
              "      <th>1</th>\n",
              "      <td>서울특별시 강남구 개포동 언주로 3</td>\n",
              "      <td>(127.05343671789691, 37.483371950000006)</td>\n",
              "      <td>127.053437</td>\n",
              "      <td>37.483372</td>\n",
              "    </tr>\n",
              "    <tr>\n",
              "      <th>2</th>\n",
              "      <td>서울특별시 강남구 개포동 개포로 307</td>\n",
              "      <td>(127.05575767360763, 37.4836782)</td>\n",
              "      <td>127.055758</td>\n",
              "      <td>37.483678</td>\n",
              "    </tr>\n",
              "    <tr>\n",
              "      <th>3</th>\n",
              "      <td>서울특별시 강남구 개포동 개포로 310</td>\n",
              "      <td>(127.0570683, 37.4833807)</td>\n",
              "      <td>127.057068</td>\n",
              "      <td>37.483381</td>\n",
              "    </tr>\n",
              "    <tr>\n",
              "      <th>4</th>\n",
              "      <td>서울특별시 강남구 개포동 선릉로 7</td>\n",
              "      <td>(127.0647353, 37.4792567)</td>\n",
              "      <td>127.064735</td>\n",
              "      <td>37.479257</td>\n",
              "    </tr>\n",
              "    <tr>\n",
              "      <th>5</th>\n",
              "      <td>서울특별시 강남구 개포동 삼성로 14</td>\n",
              "      <td>(127.0666391, 37.4881031)</td>\n",
              "      <td>127.066639</td>\n",
              "      <td>37.488103</td>\n",
              "    </tr>\n",
              "    <tr>\n",
              "      <th>6</th>\n",
              "      <td>서울특별시 강남구 개포동 삼성로4길 17</td>\n",
              "      <td>(127.06794538606707, 37.487307099999995)</td>\n",
              "      <td>127.067945</td>\n",
              "      <td>37.487307</td>\n",
              "    </tr>\n",
              "    <tr>\n",
              "      <th>7</th>\n",
              "      <td>서울특별시 강남구 개포동 개포로 516</td>\n",
              "      <td>(127.0720025138362, 37.4888687)</td>\n",
              "      <td>127.072003</td>\n",
              "      <td>37.488869</td>\n",
              "    </tr>\n",
              "    <tr>\n",
              "      <th>8</th>\n",
              "      <td>서울특별시 강남구 개포동 언주로 105</td>\n",
              "      <td>(127.05261245, 37.48162235)</td>\n",
              "      <td>127.052612</td>\n",
              "      <td>37.481622</td>\n",
              "    </tr>\n",
              "    <tr>\n",
              "      <th>9</th>\n",
              "      <td>서울특별시 강남구 개포동 언주로 110</td>\n",
              "      <td>(127.05392779453325, 37.47929375)</td>\n",
              "      <td>127.053928</td>\n",
              "      <td>37.479294</td>\n",
              "    </tr>\n",
              "  </tbody>\n",
              "</table>\n",
              "</div>\n",
              "      <button class=\"colab-df-convert\" onclick=\"convertToInteractive('df-4f74853d-7e28-41e6-ae08-2dba9992eb4d')\"\n",
              "              title=\"Convert this dataframe to an interactive table.\"\n",
              "              style=\"display:none;\">\n",
              "        \n",
              "  <svg xmlns=\"http://www.w3.org/2000/svg\" height=\"24px\"viewBox=\"0 0 24 24\"\n",
              "       width=\"24px\">\n",
              "    <path d=\"M0 0h24v24H0V0z\" fill=\"none\"/>\n",
              "    <path d=\"M18.56 5.44l.94 2.06.94-2.06 2.06-.94-2.06-.94-.94-2.06-.94 2.06-2.06.94zm-11 1L8.5 8.5l.94-2.06 2.06-.94-2.06-.94L8.5 2.5l-.94 2.06-2.06.94zm10 10l.94 2.06.94-2.06 2.06-.94-2.06-.94-.94-2.06-.94 2.06-2.06.94z\"/><path d=\"M17.41 7.96l-1.37-1.37c-.4-.4-.92-.59-1.43-.59-.52 0-1.04.2-1.43.59L10.3 9.45l-7.72 7.72c-.78.78-.78 2.05 0 2.83L4 21.41c.39.39.9.59 1.41.59.51 0 1.02-.2 1.41-.59l7.78-7.78 2.81-2.81c.8-.78.8-2.07 0-2.86zM5.41 20L4 18.59l7.72-7.72 1.47 1.35L5.41 20z\"/>\n",
              "  </svg>\n",
              "      </button>\n",
              "      \n",
              "  <style>\n",
              "    .colab-df-container {\n",
              "      display:flex;\n",
              "      flex-wrap:wrap;\n",
              "      gap: 12px;\n",
              "    }\n",
              "\n",
              "    .colab-df-convert {\n",
              "      background-color: #E8F0FE;\n",
              "      border: none;\n",
              "      border-radius: 50%;\n",
              "      cursor: pointer;\n",
              "      display: none;\n",
              "      fill: #1967D2;\n",
              "      height: 32px;\n",
              "      padding: 0 0 0 0;\n",
              "      width: 32px;\n",
              "    }\n",
              "\n",
              "    .colab-df-convert:hover {\n",
              "      background-color: #E2EBFA;\n",
              "      box-shadow: 0px 1px 2px rgba(60, 64, 67, 0.3), 0px 1px 3px 1px rgba(60, 64, 67, 0.15);\n",
              "      fill: #174EA6;\n",
              "    }\n",
              "\n",
              "    [theme=dark] .colab-df-convert {\n",
              "      background-color: #3B4455;\n",
              "      fill: #D2E3FC;\n",
              "    }\n",
              "\n",
              "    [theme=dark] .colab-df-convert:hover {\n",
              "      background-color: #434B5C;\n",
              "      box-shadow: 0px 1px 3px 1px rgba(0, 0, 0, 0.15);\n",
              "      filter: drop-shadow(0px 1px 2px rgba(0, 0, 0, 0.3));\n",
              "      fill: #FFFFFF;\n",
              "    }\n",
              "  </style>\n",
              "\n",
              "      <script>\n",
              "        const buttonEl =\n",
              "          document.querySelector('#df-4f74853d-7e28-41e6-ae08-2dba9992eb4d button.colab-df-convert');\n",
              "        buttonEl.style.display =\n",
              "          google.colab.kernel.accessAllowed ? 'block' : 'none';\n",
              "\n",
              "        async function convertToInteractive(key) {\n",
              "          const element = document.querySelector('#df-4f74853d-7e28-41e6-ae08-2dba9992eb4d');\n",
              "          const dataTable =\n",
              "            await google.colab.kernel.invokeFunction('convertToInteractive',\n",
              "                                                     [key], {});\n",
              "          if (!dataTable) return;\n",
              "\n",
              "          const docLinkHtml = 'Like what you see? Visit the ' +\n",
              "            '<a target=\"_blank\" href=https://colab.research.google.com/notebooks/data_table.ipynb>data table notebook</a>'\n",
              "            + ' to learn more about interactive tables.';\n",
              "          element.innerHTML = '';\n",
              "          dataTable['output_type'] = 'display_data';\n",
              "          await google.colab.output.renderOutput(dataTable, element);\n",
              "          const docLink = document.createElement('div');\n",
              "          docLink.innerHTML = docLinkHtml;\n",
              "          element.appendChild(docLink);\n",
              "        }\n",
              "      </script>\n",
              "    </div>\n",
              "  </div>\n",
              "  "
            ],
            "text/plain": [
              "                       주소  ...        lat\n",
              "0   서울특별시 강남구 개포동 언주로 103  ...  37.481300\n",
              "1     서울특별시 강남구 개포동 언주로 3  ...  37.483372\n",
              "2   서울특별시 강남구 개포동 개포로 307  ...  37.483678\n",
              "3   서울특별시 강남구 개포동 개포로 310  ...  37.483381\n",
              "4     서울특별시 강남구 개포동 선릉로 7  ...  37.479257\n",
              "5    서울특별시 강남구 개포동 삼성로 14  ...  37.488103\n",
              "6  서울특별시 강남구 개포동 삼성로4길 17  ...  37.487307\n",
              "7   서울특별시 강남구 개포동 개포로 516  ...  37.488869\n",
              "8   서울특별시 강남구 개포동 언주로 105  ...  37.481622\n",
              "9   서울특별시 강남구 개포동 언주로 110  ...  37.479294\n",
              "\n",
              "[10 rows x 4 columns]"
            ]
          },
          "metadata": {},
          "execution_count": 49
        }
      ]
    },
    {
      "cell_type": "markdown",
      "source": [
        "#Thread를 활용한 주소정보 전체를 조회한다.\n",
        "* 1000건씩 실행\n",
        "* 13000건 조회시에 cpu가 2개라서 2시간 소요되었음. \n",
        "---\n",
        "\n"
      ],
      "metadata": {
        "id": "G8N3aAVkUC4z"
      }
    },
    {
      "cell_type": "code",
      "source": [
        "num_processes = multiprocessing.cpu_count()\n",
        "\n",
        "with concurrent.futures.ProcessPoolExecutor(num_processes) as pool:\n",
        "    #df['result'] = list(pool.map(func, df['a'], df['b'], chunksize=10)) # Without a progressbar\n",
        "    address['locations'] = list(tqdm.tqdm(pool.map(geocoding, address['주소'], chunksize=50), total=address.shape[0]))\n",
        "\n",
        "\n",
        "\n",
        "address[['lon','lat']] = pd.DataFrame(address['locations'].tolist(),\n",
        "                                 index=address.index)\n",
        "address.head()\n",
        "address.to_csv('/content/drvie/MyDrive/apartHome/실거래가/서울경기아파트주소_GEO.csv',index = False)\n"
      ],
      "metadata": {
        "id": "GtpBJyuUQl69"
      },
      "execution_count": null,
      "outputs": []
    },
    {
      "cell_type": "code",
      "source": [
        ""
      ],
      "metadata": {
        "id": "tV9jFZd2QG5b"
      },
      "execution_count": null,
      "outputs": []
    },
    {
      "cell_type": "code",
      "source": [
        ""
      ],
      "metadata": {
        "id": "mHArtbJ4QDf7"
      },
      "execution_count": null,
      "outputs": []
    },
    {
      "cell_type": "code",
      "source": [
        "geoadds = pd.read_csv('/content/drvie/MyDrive/apartHome/실거래가/서울경기아파트주소_GEO.csv')\n",
        "geoadds"
      ],
      "metadata": {
        "id": "mOGaBAgrTGDD",
        "colab": {
          "base_uri": "https://localhost:8080/",
          "height": 424
        },
        "outputId": "e32bb750-fa72-4f7a-91e3-9d19dfad0134"
      },
      "execution_count": null,
      "outputs": [
        {
          "output_type": "execute_result",
          "data": {
            "text/html": [
              "\n",
              "  <div id=\"df-ca6e5116-f626-4f46-bd12-cdb8f9652220\">\n",
              "    <div class=\"colab-df-container\">\n",
              "      <div>\n",
              "<style scoped>\n",
              "    .dataframe tbody tr th:only-of-type {\n",
              "        vertical-align: middle;\n",
              "    }\n",
              "\n",
              "    .dataframe tbody tr th {\n",
              "        vertical-align: top;\n",
              "    }\n",
              "\n",
              "    .dataframe thead th {\n",
              "        text-align: right;\n",
              "    }\n",
              "</style>\n",
              "<table border=\"1\" class=\"dataframe\">\n",
              "  <thead>\n",
              "    <tr style=\"text-align: right;\">\n",
              "      <th></th>\n",
              "      <th>index</th>\n",
              "      <th>주소</th>\n",
              "      <th>locations</th>\n",
              "      <th>lon</th>\n",
              "      <th>lat</th>\n",
              "    </tr>\n",
              "  </thead>\n",
              "  <tbody>\n",
              "    <tr>\n",
              "      <th>0</th>\n",
              "      <td>0</td>\n",
              "      <td>서울특별시 강남구 개포동 언주로 103</td>\n",
              "      <td>(127.0528827, 37.481299500000006)</td>\n",
              "      <td>127.052883</td>\n",
              "      <td>37.481300</td>\n",
              "    </tr>\n",
              "    <tr>\n",
              "      <th>1</th>\n",
              "      <td>1</td>\n",
              "      <td>서울특별시 강남구 개포동 언주로 3</td>\n",
              "      <td>(127.05343671789691, 37.483371950000006)</td>\n",
              "      <td>127.053437</td>\n",
              "      <td>37.483372</td>\n",
              "    </tr>\n",
              "    <tr>\n",
              "      <th>2</th>\n",
              "      <td>2</td>\n",
              "      <td>서울특별시 강남구 개포동 개포로 307</td>\n",
              "      <td>(127.05575767360763, 37.4836782)</td>\n",
              "      <td>127.055758</td>\n",
              "      <td>37.483678</td>\n",
              "    </tr>\n",
              "    <tr>\n",
              "      <th>3</th>\n",
              "      <td>3</td>\n",
              "      <td>서울특별시 강남구 개포동 개포로 310</td>\n",
              "      <td>(127.0570683, 37.4833807)</td>\n",
              "      <td>127.057068</td>\n",
              "      <td>37.483381</td>\n",
              "    </tr>\n",
              "    <tr>\n",
              "      <th>4</th>\n",
              "      <td>4</td>\n",
              "      <td>서울특별시 강남구 개포동 선릉로 7</td>\n",
              "      <td>(127.0647353, 37.4792567)</td>\n",
              "      <td>127.064735</td>\n",
              "      <td>37.479257</td>\n",
              "    </tr>\n",
              "    <tr>\n",
              "      <th>...</th>\n",
              "      <td>...</td>\n",
              "      <td>...</td>\n",
              "      <td>...</td>\n",
              "      <td>...</td>\n",
              "      <td>...</td>\n",
              "    </tr>\n",
              "    <tr>\n",
              "      <th>13814</th>\n",
              "      <td>13814</td>\n",
              "      <td>경기도 화성시 오산동 동탄감배산로 143</td>\n",
              "      <td>(127.0897249, 37.1958897)</td>\n",
              "      <td>127.089725</td>\n",
              "      <td>37.195890</td>\n",
              "    </tr>\n",
              "    <tr>\n",
              "      <th>13815</th>\n",
              "      <td>13815</td>\n",
              "      <td>경기도 화성시 오산동 동탄기흥로 393-20</td>\n",
              "      <td>(127.0926572, 37.1866501)</td>\n",
              "      <td>127.092657</td>\n",
              "      <td>37.186650</td>\n",
              "    </tr>\n",
              "    <tr>\n",
              "      <th>13816</th>\n",
              "      <td>13816</td>\n",
              "      <td>경기도 화성시 장안면 사곡리 밤밭일원길 131-10</td>\n",
              "      <td>('NA', 'NA')</td>\n",
              "      <td>NaN</td>\n",
              "      <td>NaN</td>\n",
              "    </tr>\n",
              "    <tr>\n",
              "      <th>13817</th>\n",
              "      <td>13817</td>\n",
              "      <td>경기도 화성시 향남읍 장짐리 푸른들판로 251-8</td>\n",
              "      <td>(126.9110772, 37.1357985)</td>\n",
              "      <td>126.911077</td>\n",
              "      <td>37.135798</td>\n",
              "    </tr>\n",
              "    <tr>\n",
              "      <th>13818</th>\n",
              "      <td>13818</td>\n",
              "      <td>경기도 화성시 향남읍 장짐리 푸른들판로 251-6</td>\n",
              "      <td>(126.9110772, 37.1357985)</td>\n",
              "      <td>126.911077</td>\n",
              "      <td>37.135798</td>\n",
              "    </tr>\n",
              "  </tbody>\n",
              "</table>\n",
              "<p>13819 rows × 5 columns</p>\n",
              "</div>\n",
              "      <button class=\"colab-df-convert\" onclick=\"convertToInteractive('df-ca6e5116-f626-4f46-bd12-cdb8f9652220')\"\n",
              "              title=\"Convert this dataframe to an interactive table.\"\n",
              "              style=\"display:none;\">\n",
              "        \n",
              "  <svg xmlns=\"http://www.w3.org/2000/svg\" height=\"24px\"viewBox=\"0 0 24 24\"\n",
              "       width=\"24px\">\n",
              "    <path d=\"M0 0h24v24H0V0z\" fill=\"none\"/>\n",
              "    <path d=\"M18.56 5.44l.94 2.06.94-2.06 2.06-.94-2.06-.94-.94-2.06-.94 2.06-2.06.94zm-11 1L8.5 8.5l.94-2.06 2.06-.94-2.06-.94L8.5 2.5l-.94 2.06-2.06.94zm10 10l.94 2.06.94-2.06 2.06-.94-2.06-.94-.94-2.06-.94 2.06-2.06.94z\"/><path d=\"M17.41 7.96l-1.37-1.37c-.4-.4-.92-.59-1.43-.59-.52 0-1.04.2-1.43.59L10.3 9.45l-7.72 7.72c-.78.78-.78 2.05 0 2.83L4 21.41c.39.39.9.59 1.41.59.51 0 1.02-.2 1.41-.59l7.78-7.78 2.81-2.81c.8-.78.8-2.07 0-2.86zM5.41 20L4 18.59l7.72-7.72 1.47 1.35L5.41 20z\"/>\n",
              "  </svg>\n",
              "      </button>\n",
              "      \n",
              "  <style>\n",
              "    .colab-df-container {\n",
              "      display:flex;\n",
              "      flex-wrap:wrap;\n",
              "      gap: 12px;\n",
              "    }\n",
              "\n",
              "    .colab-df-convert {\n",
              "      background-color: #E8F0FE;\n",
              "      border: none;\n",
              "      border-radius: 50%;\n",
              "      cursor: pointer;\n",
              "      display: none;\n",
              "      fill: #1967D2;\n",
              "      height: 32px;\n",
              "      padding: 0 0 0 0;\n",
              "      width: 32px;\n",
              "    }\n",
              "\n",
              "    .colab-df-convert:hover {\n",
              "      background-color: #E2EBFA;\n",
              "      box-shadow: 0px 1px 2px rgba(60, 64, 67, 0.3), 0px 1px 3px 1px rgba(60, 64, 67, 0.15);\n",
              "      fill: #174EA6;\n",
              "    }\n",
              "\n",
              "    [theme=dark] .colab-df-convert {\n",
              "      background-color: #3B4455;\n",
              "      fill: #D2E3FC;\n",
              "    }\n",
              "\n",
              "    [theme=dark] .colab-df-convert:hover {\n",
              "      background-color: #434B5C;\n",
              "      box-shadow: 0px 1px 3px 1px rgba(0, 0, 0, 0.15);\n",
              "      filter: drop-shadow(0px 1px 2px rgba(0, 0, 0, 0.3));\n",
              "      fill: #FFFFFF;\n",
              "    }\n",
              "  </style>\n",
              "\n",
              "      <script>\n",
              "        const buttonEl =\n",
              "          document.querySelector('#df-ca6e5116-f626-4f46-bd12-cdb8f9652220 button.colab-df-convert');\n",
              "        buttonEl.style.display =\n",
              "          google.colab.kernel.accessAllowed ? 'block' : 'none';\n",
              "\n",
              "        async function convertToInteractive(key) {\n",
              "          const element = document.querySelector('#df-ca6e5116-f626-4f46-bd12-cdb8f9652220');\n",
              "          const dataTable =\n",
              "            await google.colab.kernel.invokeFunction('convertToInteractive',\n",
              "                                                     [key], {});\n",
              "          if (!dataTable) return;\n",
              "\n",
              "          const docLinkHtml = 'Like what you see? Visit the ' +\n",
              "            '<a target=\"_blank\" href=https://colab.research.google.com/notebooks/data_table.ipynb>data table notebook</a>'\n",
              "            + ' to learn more about interactive tables.';\n",
              "          element.innerHTML = '';\n",
              "          dataTable['output_type'] = 'display_data';\n",
              "          await google.colab.output.renderOutput(dataTable, element);\n",
              "          const docLink = document.createElement('div');\n",
              "          docLink.innerHTML = docLinkHtml;\n",
              "          element.appendChild(docLink);\n",
              "        }\n",
              "      </script>\n",
              "    </div>\n",
              "  </div>\n",
              "  "
            ],
            "text/plain": [
              "       index                            주소  ...         lon        lat\n",
              "0          0         서울특별시 강남구 개포동 언주로 103  ...  127.052883  37.481300\n",
              "1          1           서울특별시 강남구 개포동 언주로 3  ...  127.053437  37.483372\n",
              "2          2         서울특별시 강남구 개포동 개포로 307  ...  127.055758  37.483678\n",
              "3          3         서울특별시 강남구 개포동 개포로 310  ...  127.057068  37.483381\n",
              "4          4           서울특별시 강남구 개포동 선릉로 7  ...  127.064735  37.479257\n",
              "...      ...                           ...  ...         ...        ...\n",
              "13814  13814        경기도 화성시 오산동 동탄감배산로 143  ...  127.089725  37.195890\n",
              "13815  13815      경기도 화성시 오산동 동탄기흥로 393-20  ...  127.092657  37.186650\n",
              "13816  13816  경기도 화성시 장안면 사곡리 밤밭일원길 131-10  ...         NaN        NaN\n",
              "13817  13817   경기도 화성시 향남읍 장짐리 푸른들판로 251-8  ...  126.911077  37.135798\n",
              "13818  13818   경기도 화성시 향남읍 장짐리 푸른들판로 251-6  ...  126.911077  37.135798\n",
              "\n",
              "[13819 rows x 5 columns]"
            ]
          },
          "metadata": {},
          "execution_count": 7
        }
      ]
    }
  ]
}