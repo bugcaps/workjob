{
  "nbformat": 4,
  "nbformat_minor": 0,
  "metadata": {
    "colab": {
      "name": "실거래가합치기.ipynb",
      "provenance": [],
      "collapsed_sections": [],
      "authorship_tag": "ABX9TyMsXwgnN6jyyaC1mOfvQ2JX",
      "include_colab_link": true
    },
    "kernelspec": {
      "name": "python3",
      "display_name": "Python 3"
    },
    "language_info": {
      "name": "python"
    }
  },
  "cells": [
    {
      "cell_type": "markdown",
      "metadata": {
        "id": "view-in-github",
        "colab_type": "text"
      },
      "source": [
        "<a href=\"https://colab.research.google.com/github/bugcaps/workjob/blob/main/%EC%8B%A4%EA%B1%B0%EB%9E%98%EA%B0%80%ED%95%A9%EC%B9%98%EA%B8%B0.ipynb\" target=\"_parent\"><img src=\"https://colab.research.google.com/assets/colab-badge.svg\" alt=\"Open In Colab\"/></a>"
      ]
    },
    {
      "cell_type": "markdown",
      "source": [
        "### 실거래가를 년도별 csv화일을 합친다.\n",
        "* 참조데이터 : 국도교통부 실거래가 자료공개 데이터 cvs 1년단위 download\n",
        "  * http://rtdown.molit.go.kr/\n",
        "  * 서울,경기권 거래내역"
      ],
      "metadata": {
        "id": "my1E0zYw8w_X"
      }
    },
    {
      "cell_type": "code",
      "execution_count": 1,
      "metadata": {
        "colab": {
          "base_uri": "https://localhost:8080/"
        },
        "id": "MOr1pTM_MoV0",
        "outputId": "f2b0f84c-21da-4878-972d-0bd5b7b265f7"
      },
      "outputs": [
        {
          "output_type": "stream",
          "name": "stdout",
          "text": [
            "Mounted at /content/drvie\n"
          ]
        }
      ],
      "source": [
        "# 드라이브  연결\n",
        "from google.colab import drive\n",
        "drive.mount('/content/drvie') "
      ]
    },
    {
      "cell_type": "code",
      "source": [
        "!ls /content/drvie/MyDrive/apartHome/실거래가"
      ],
      "metadata": {
        "colab": {
          "base_uri": "https://localhost:8080/"
        },
        "id": "8dIg1rUZ_f0v",
        "outputId": "1713d88f-5587-4a81-9c4d-5611cf50191d"
      },
      "execution_count": 3,
      "outputs": [
        {
          "output_type": "stream",
          "name": "stdout",
          "text": [
            "'아파트(매매)__실거래가_2019_서울.csv'\n",
            "'아파트(매매)__실거래가_2019_경기도.csv'\n",
            "'아파트(매매)__실거래가_2020_서울.csv'\n",
            "'아파트(매매)__실거래가_2020_경기도.csv'\n",
            "'아파트(매매)__실거래가_2021_서울.csv'\n",
            "'아파트(매매)__실거래가_2021_경기도.csv'\n",
            " 2021_성동구.csv\n"
          ]
        }
      ]
    },
    {
      "cell_type": "code",
      "source": [
        "\n",
        "import pandas as pd\n",
        "\n",
        "df = pd.read_csv('/content/drvie/MyDrive/apartHome/실거래가/아파트(매매)__실거래가_2021_서울.csv',encoding='CP949')\n",
        "#df.drop(\"해제사유발생일\", axis=1,inplace=True) ## axis=1 열, 0 행을 의미한다. inplace=True 현재 객체에 설정하는 option\n",
        "#df.set_index(\"단지명\" , inplace=True)  \n",
        "#display(df)\n",
        "#display(df.columns)\n"
      ],
      "metadata": {
        "id": "K-9Qx281OIZc"
      },
      "execution_count": 121,
      "outputs": []
    },
    {
      "cell_type": "code",
      "source": [
        ""
      ],
      "metadata": {
        "id": "DMRg8Futf3th"
      },
      "execution_count": 64,
      "outputs": []
    },
    {
      "cell_type": "code",
      "source": [
        "df.info()"
      ],
      "metadata": {
        "colab": {
          "base_uri": "https://localhost:8080/"
        },
        "id": "qDUBfJiLbtmF",
        "outputId": "ca16369f-eecc-4f0c-dc3f-d8a51fcbeac3"
      },
      "execution_count": 91,
      "outputs": [
        {
          "output_type": "stream",
          "name": "stdout",
          "text": [
            "<class 'pandas.core.frame.DataFrame'>\n",
            "RangeIndex: 42637 entries, 0 to 42636\n",
            "Data columns (total 15 columns):\n",
            " #   Column    Non-Null Count  Dtype  \n",
            "---  ------    --------------  -----  \n",
            " 0   시군구       42637 non-null  object \n",
            " 1   번지        42623 non-null  object \n",
            " 2   본번        42632 non-null  float64\n",
            " 3   부번        42632 non-null  float64\n",
            " 4   단지명       42637 non-null  object \n",
            " 5   전용면적(㎡)   42637 non-null  float64\n",
            " 6   계약년월      42637 non-null  int64  \n",
            " 7   계약일       42637 non-null  int64  \n",
            " 8   거래금액(만원)  42637 non-null  object \n",
            " 9   층         42637 non-null  int64  \n",
            " 10  건축년도      42636 non-null  float64\n",
            " 11  도로명       42637 non-null  object \n",
            " 12  해제사유발생일   1168 non-null   float64\n",
            " 13  거래유형      42637 non-null  object \n",
            " 14  중개사소재지    42637 non-null  object \n",
            "dtypes: float64(5), int64(3), object(7)\n",
            "memory usage: 4.9+ MB\n"
          ]
        }
      ]
    },
    {
      "cell_type": "markdown",
      "source": [
        "## 실거래가 데이터 확인\n",
        "* 전체 csv 화일에서 필요항목만 추출\n",
        "  * 시군구','번지','도로명', '단지명','전용면적(㎡)','계약년월','계약일','거래금액(만원)\n",
        "  * group 항목 추가 : 전용면적을 10단위로 블럭화"
      ],
      "metadata": {
        "id": "cYX8V_h6XzRa"
      }
    },
    {
      "cell_type": "code",
      "source": [
        "def exportconvertData(df):\n",
        "  ''' 검색하려는 구를 추출하여 컬럼을 동일하게 정의 '''\n",
        "  tempdf = df.drop(\"해제사유발생일\", axis=1) ## axis=1 열, 0 행을 의미한다. inplace=True 현재 객체에 설정하는 option\n",
        "  newdata =tempdf.filter(items=['시군구','번지','도로명', '단지명','전용면적(㎡)','계약년월','계약일','거래금액(만원)'])\n",
        "  newdata.rename(columns = {'전용면적(㎡)' : '전용면적','거래금액(만원)':'금액'}, inplace = True)\n",
        "\n",
        "  labels = [\"{0} - {1}\".format(i, i + 9) for i in range(0, 200, 10)]\n",
        "  newdata[\"group\"] = pd.cut(newdata['전용면적'], range(0, 205, 10), right=False, labels=labels)  \n",
        " ## display(newdata)\n",
        "  \n",
        "  ## 데이터를 추출 한다 40~130까지 전용면적\n",
        "  exportData =newdata[newdata['전용면적']>50  & ~(newdata['전용면적']<60)].copy()\n",
        "\n",
        "\n",
        "  ## 데이터 전처리  \n",
        "  exportData['계약년월'] =pd.to_datetime(exportData['계약년월'], format='%Y%m', errors='ignore')  \n",
        "  exportData[\"동\"] = exportData.시군구.str.split(\" \").str[2]\n",
        "  ##검색구[\"주소\"]=검색구['시군구'] +' ' + 검색구['도로명']\n",
        "  exportData['금액']= pd.to_numeric(exportData['금액'].str.replace(',', ''))  ## 숫자로변환\n",
        "  exportData=exportData.filter(items=['동', '단지명','group','전용면적','계약년월','계약일','금액','시군구','도로명'])\n",
        "  ##검색구.reset_index()\n",
        "  return exportData"
      ],
      "metadata": {
        "id": "y5YXd7k9c7Qg"
      },
      "execution_count": 127,
      "outputs": []
    },
    {
      "cell_type": "code",
      "source": [
        "\n",
        "\n",
        "years = ['2019','2020','2021']\n",
        "areas =['서울','경기도']\n",
        "\n",
        "alldf = pd.DataFrame()\n",
        "\n",
        "for yyyy in years: \n",
        "  for a in areas:\n",
        "    path ='/content/drvie/MyDrive/apartHome/실거래가/아파트(매매)__실거래가_'+ yyyy+'_' + a +'.csv'\n",
        "   \n",
        "    temp = pd.read_csv(path,encoding='CP949') \n",
        "    temp=exportconvertData(temp)\n",
        "    alldf = pd.concat([alldf, temp], ignore_index = True, axis = 0)\n",
        "\n",
        "   \n",
        "    ##df = pd.read_csv('/content/drvie/MyDrive/apartHome/실거래가/아파트(매매)__실거래가_2021_서울.csv',encoding='CP949')\n",
        "alldf.sample()\n",
        "alldf.isnull"
      ],
      "metadata": {
        "colab": {
          "base_uri": "https://localhost:8080/"
        },
        "id": "PpHv3H_qefyl",
        "outputId": "02d94b89-bc5a-40cd-9ecb-389e2d01cb44"
      },
      "execution_count": 129,
      "outputs": [
        {
          "output_type": "stream",
          "name": "stderr",
          "text": [
            "/usr/local/lib/python3.7/dist-packages/IPython/core/interactiveshell.py:2718: DtypeWarning: Columns (2) have mixed types.Specify dtype option on import or set low_memory=False.\n",
            "  interactivity=interactivity, compiler=compiler, result=result)\n",
            "/usr/local/lib/python3.7/dist-packages/IPython/core/interactiveshell.py:2718: DtypeWarning: Columns (2) have mixed types.Specify dtype option on import or set low_memory=False.\n",
            "  interactivity=interactivity, compiler=compiler, result=result)\n"
          ]
        },
        {
          "output_type": "execute_result",
          "data": {
            "text/plain": [
              "<bound method DataFrame.isnull of           동               단지명    group  ...      금액              시군구      도로명\n",
              "0       개포동    개포2차현대아파트(220)  70 - 79  ...  134500    서울특별시 강남구 개포동  언주로 103\n",
              "1       개포동    개포2차현대아파트(220)  70 - 79  ...  160000    서울특별시 강남구 개포동  언주로 103\n",
              "2       개포동    개포6차우성아파트1동~8동  60 - 69  ...  124000    서울특별시 강남구 개포동    언주로 3\n",
              "3       개포동    개포6차우성아파트1동~8동  70 - 79  ...  141000    서울특별시 강남구 개포동    언주로 3\n",
              "4       개포동    개포6차우성아파트1동~8동  70 - 79  ...  155000    서울특별시 강남구 개포동    언주로 3\n",
              "...     ...               ...      ...  ...     ...              ...      ...\n",
              "753754  향남읍  화성향남시범복사꽃마을한국아델리  80 - 89  ...   34000  경기도 화성시 향남읍 행정리  행정동로 88\n",
              "753755  향남읍  화성향남시범복사꽃마을한국아델리  80 - 89  ...   39000  경기도 화성시 향남읍 행정리  행정동로 88\n",
              "753756  향남읍  화성향남시범복사꽃마을한국아델리  80 - 89  ...   38800  경기도 화성시 향남읍 행정리  행정동로 88\n",
              "753757  향남읍  화성향남시범복사꽃마을한국아델리  80 - 89  ...   34950  경기도 화성시 향남읍 행정리  행정동로 88\n",
              "753758  향남읍  화성향남시범복사꽃마을한국아델리  80 - 89  ...   48000  경기도 화성시 향남읍 행정리  행정동로 88\n",
              "\n",
              "[753759 rows x 9 columns]>"
            ]
          },
          "metadata": {},
          "execution_count": 129
        }
      ]
    },
    {
      "cell_type": "markdown",
      "source": [
        "### 화일생성완료"
      ],
      "metadata": {
        "id": "pY9kXtC_yIDg"
      }
    },
    {
      "cell_type": "code",
      "source": [
        "#csv 파일 생성\n",
        "alldf.to_csv(\"/content/drvie/MyDrive/apartHome/실거래가/2019_21_서울경기_40_130.csv\",index=False)\n"
      ],
      "metadata": {
        "id": "8GXViOCMU5if"
      },
      "execution_count": 130,
      "outputs": []
    },
    {
      "cell_type": "code",
      "source": [
        "!ls /content/drvie/MyDrive/apartHome/실거래가"
      ],
      "metadata": {
        "colab": {
          "base_uri": "https://localhost:8080/"
        },
        "id": "X33zzZPADthw",
        "outputId": "3b98d8f1-5d54-40d3-f065-69351b537269"
      },
      "execution_count": 108,
      "outputs": [
        {
          "output_type": "stream",
          "name": "stdout",
          "text": [
            " 2019_21_서울경기_40_130.csv\n",
            "'아파트(매매)__실거래가_2019_서울.csv'\n",
            "'아파트(매매)__실거래가_2019_경기도.csv'\n",
            "'아파트(매매)__실거래가_2020_서울.csv'\n",
            "'아파트(매매)__실거래가_2020_경기도.csv'\n",
            "'아파트(매매)__실거래가_2021_서울.csv'\n",
            "'아파트(매매)__실거래가_2021_경기도.csv'\n",
            " 2021_성동구.csv\n"
          ]
        }
      ]
    }
  ]
}